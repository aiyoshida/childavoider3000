{
 "cells": [
  {
   "cell_type": "code",
   "execution_count": 2,
   "id": "ed984d32-7953-40df-97d9-8a188c0f3cf2",
   "metadata": {},
   "outputs": [
    {
     "ename": "IndentationError",
     "evalue": "unindent does not match any outer indentation level (<tokenize>, line 18)",
     "output_type": "error",
     "traceback": [
      "\u001b[0;36m  File \u001b[0;32m<tokenize>:18\u001b[0;36m\u001b[0m\n\u001b[0;31m    def _init_(self, rx,ry,vx,vy):\u001b[0m\n\u001b[0m    ^\u001b[0m\n\u001b[0;31mIndentationError\u001b[0m\u001b[0;31m:\u001b[0m unindent does not match any outer indentation level\n"
     ]
    }
   ],
   "source": [
    "import csv\n",
    "import numpy as np\n",
    "import time\n",
    "import matplotlib.pyplot as plt\n",
    "with open('Normalized DevelopmentData.xlsx - Sheet1.csv','r') as csv_file:\n",
    "    table=[]\n",
    "    csv_reader=csv.reader(csv_file)\n",
    "    next(csv_reader)\n",
    "    for line in csv_reader:\n",
    "        table.append(line)\n",
    "        num=len(table)\n",
    "        np_table=np.asmatrix(table)\n",
    "columns=[]\n",
    "for i in range(20):\n",
    "    columns.append(np_table[:,i])\n",
    "    columns[i].reshape((1,428))\n",
    "    class Object:\n",
    "  def _init_(self, rx,ry,vx,vy):\n",
    "    self.rx = rx\n",
    "    self.ry = ry\n",
    "    self.vx = vx\n",
    "    self.vy = vy\n",
    "    timestamps=obj1=np_table[19]\n",
    "obj1=Object(columns[1],columns[2],columns[10],columns[11])\n",
    "obj2=Object(columns[3],columns[4],columns[12],columns[13])\n",
    "obj3=Object(columns[5],columns[6],columns[14],columns[15])\n",
    "obj4=Object(columns[7],columns[8],columns[16],columns[17])\n",
    "plt.scatter([obj1.rx[:,0]],[obj1.ry[:,0]])\n",
    "plt.xlabel('X-axis')\n",
    "plt.ylabel('Y-axis')\n",
    "plt.title(\"A simple line graph\")\n",
    "plt.show()\n",
    "plt.scatter([obj2.rx[:,0]],[obj2.ry[:,0]])\n",
    "plt.xlabel('X-axis')\n",
    "plt.ylabel('Y-axis')\n",
    "plt.title(\"A simple line graph\")\n",
    "plt.show()\n",
    "plt.scatter([obj3.rx[:,0]],[obj3.ry[:,0]])\n",
    "plt.xlabel('X-axis')\n",
    "plt.ylabel('Y-axis')\n",
    "plt.title(\"A simple line graph\")\n",
    "plt.show()\n",
    "plt.scatter([obj4.rx[:,0]],[obj4.ry[:,0]])\n",
    "plt.xlabel('X-axis')\n",
    "plt.ylabel('Y-axis')\n",
    "plt.title(\"A simple line graph\")\n",
    "plt.show()"
   ]
  },
  {
   "cell_type": "code",
   "execution_count": null,
   "id": "4a2c8865-d8b5-4c3d-8abe-cf194f3670b2",
   "metadata": {},
   "outputs": [],
   "source": []
  }
 ],
 "metadata": {
  "kernelspec": {
   "display_name": "Python 3 (ipykernel)",
   "language": "python",
   "name": "python3"
  },
  "language_info": {
   "codemirror_mode": {
    "name": "ipython",
    "version": 3
   },
   "file_extension": ".py",
   "mimetype": "text/x-python",
   "name": "python",
   "nbconvert_exporter": "python",
   "pygments_lexer": "ipython3",
   "version": "3.11.5"
  }
 },
 "nbformat": 4,
 "nbformat_minor": 5
}
